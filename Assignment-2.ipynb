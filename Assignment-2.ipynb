{
 "cells": [
  {
   "cell_type": "code",
   "execution_count": 1,
   "metadata": {},
   "outputs": [],
   "source": [
    "################################################################################################################################\n",
    "#                                  DESCRIPTION: ASSIGNMENT - 2                                                                 #\n",
    "#                                     Author: JAS DESAI                                                                        #\n",
    "#                                      Date: 08/12/2020                                                                        #\n",
    "#                                   Reference program: N/A                                                                     #\n",
    "################################################################################################################################\n",
    "#                                      CHANGE LOG:                                                                             #\n",
    "#                               version 1.0 -ineuron-Assignment                                                                #\n",
    "################################################################################################################################"
   ]
  },
  {
   "cell_type": "raw",
   "metadata": {},
   "source": [
    "1. Create the below pattern using nested for loop in Python.\n",
    "     *\n",
    "     **\n",
    "     ***\n",
    "     ****\n",
    "     *****\n",
    "     ****\n",
    "     ***\n",
    "     **\n",
    "     *"
   ]
  },
  {
   "cell_type": "code",
   "execution_count": 6,
   "metadata": {},
   "outputs": [
    {
     "name": "stdout",
     "output_type": "stream",
     "text": [
      "Printing pattern as per above question using nested loop \n",
      "\n",
      "*\n",
      "**\n",
      "***\n",
      "****\n",
      "*****\n",
      "****\n",
      "***\n",
      "**\n",
      "*\n"
     ]
    }
   ],
   "source": [
    "def pattern(n):\n",
    "    \"\"\"Printing pattern as per above question using nested loop\"\"\"\n",
    "    print_list = []\n",
    "    flag = 'x'\n",
    "    for i in range(1,n+1):\n",
    "        print_list.append('*')                 #Adding asteriks\n",
    "        print(''.join(print_list))\n",
    "        if i == n:\n",
    "            for i in range(1,n):\n",
    "                print_list.remove('*')         #Removing asteriks\n",
    "                print(''.join(print_list))\n",
    "\n",
    "print(pattern.__doc__,'\\n')                \n",
    "pattern(5)"
   ]
  },
  {
   "cell_type": "markdown",
   "metadata": {},
   "source": [
    "2.Write a python program to reverse a word, after accepting the input from the user"
   ]
  },
  {
   "cell_type": "code",
   "execution_count": 4,
   "metadata": {},
   "outputs": [
    {
     "name": "stdout",
     "output_type": "stream",
     "text": [
      "Please enter input to reverseineuron\n",
      "norueni\n"
     ]
    }
   ],
   "source": [
    "user_word = input('Please enter input to reverse')                #Taking input from the user\n",
    "print(user_word[::-1])                                            #Reversing the input and printing it"
   ]
  },
  {
   "cell_type": "code",
   "execution_count": null,
   "metadata": {},
   "outputs": [],
   "source": []
  }
 ],
 "metadata": {
  "kernelspec": {
   "display_name": "Python 3",
   "language": "python",
   "name": "python3"
  },
  "language_info": {
   "codemirror_mode": {
    "name": "ipython",
    "version": 3
   },
   "file_extension": ".py",
   "mimetype": "text/x-python",
   "name": "python",
   "nbconvert_exporter": "python",
   "pygments_lexer": "ipython3",
   "version": "3.8.3"
  }
 },
 "nbformat": 4,
 "nbformat_minor": 4
}
